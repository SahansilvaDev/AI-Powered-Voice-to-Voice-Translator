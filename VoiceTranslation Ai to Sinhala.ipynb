{
 "cells": [
  {
   "cell_type": "code",
   "execution_count": 1,
   "metadata": {},
   "outputs": [
    {
     "name": "stderr",
     "output_type": "stream",
     "text": [
      "/Users/sahan/Library/Python/3.9/lib/python/site-packages/urllib3/__init__.py:35: NotOpenSSLWarning: urllib3 v2 only supports OpenSSL 1.1.1+, currently the 'ssl' module is compiled with 'LibreSSL 2.8.3'. See: https://github.com/urllib3/urllib3/issues/3020\n",
      "  warnings.warn(\n",
      "/Users/sahan/Library/Python/3.9/lib/python/site-packages/tqdm/auto.py:21: TqdmWarning: IProgress not found. Please update jupyter and ipywidgets. See https://ipywidgets.readthedocs.io/en/stable/user_install.html\n",
      "  from .autonotebook import tqdm as notebook_tqdm\n"
     ]
    }
   ],
   "source": [
    "import whisper\n",
    "import gradio as gr\n",
    "import scipy.io.wavfile as wav\n",
    "from googletrans import Translator  # using this for any lanagues-to-Sinhala translation (TTT)\n",
    "from gtts import gTTS  # using this for Sinhala text-to-speech (TTS)\n",
    "import os"
   ]
  },
  {
   "cell_type": "code",
   "execution_count": 9,
   "metadata": {},
   "outputs": [],
   "source": [
    "# Load Whisper model to STT\n",
    "model = whisper.load_model(\"small\")"
   ]
  },
  {
   "cell_type": "code",
   "execution_count": 10,
   "metadata": {},
   "outputs": [],
   "source": [
    "# call the translator\n",
    "translator = Translator()"
   ]
  },
  {
   "cell_type": "code",
   "execution_count": null,
   "metadata": {},
   "outputs": [],
   "source": [
    "#Trasncribe, Translate and TTS function\n",
    "def transcribe_translate_tts(audio):\n",
    "    if audio is None:\n",
    "        return \"No audio provided.\", \"\", None\n",
    "    \n",
    "    try:\n",
    "        # Unpack the tuple\n",
    "        sample_rate, audio_data = audio\n",
    "        # Saving in the audio file in local machine\n",
    "        filename = \"input_audio.wav\"\n",
    "        wav.write(filename, sample_rate, audio_data)\n",
    "        \n",
    "        # Transcribe speech to text (STT) and ASR\n",
    "        result = model.transcribe(filename)\n",
    "        text = result[\"text\"]\n",
    "        \n",
    "        # Translate ASR Lanaguage text to Sinhala (language code: \"si\")\n",
    "        translated_text = translator.translate(text, dest=\"si\").text\n",
    "        \n",
    "        # Generate Sinhala speech (TTS) using the translated text\n",
    "        tts = gTTS(text=translated_text, lang=\"si\")\n",
    "        tts.save(\"sinhala_speech.mp3\")\n",
    "        \n",
    "        return text, translated_text, \"sinhala_speech.mp3\"\n",
    "    \n",
    "    except Exception as e:\n",
    "        return str(e), \"\", None\n"
   ]
  },
  {
   "cell_type": "code",
   "execution_count": 17,
   "metadata": {},
   "outputs": [
    {
     "name": "stdout",
     "output_type": "stream",
     "text": [
      "Running on local URL:  http://127.0.0.1:7871\n",
      "\n",
      "To create a public link, set `share=True` in `launch()`.\n"
     ]
    },
    {
     "data": {
      "text/html": [
       "<div><iframe src=\"http://127.0.0.1:7871/\" width=\"100%\" height=\"500\" allow=\"autoplay; camera; microphone; clipboard-read; clipboard-write;\" frameborder=\"0\" allowfullscreen></iframe></div>"
      ],
      "text/plain": [
       "<IPython.core.display.HTML object>"
      ]
     },
     "metadata": {},
     "output_type": "display_data"
    },
    {
     "data": {
      "text/plain": []
     },
     "execution_count": 17,
     "metadata": {},
     "output_type": "execute_result"
    },
    {
     "name": "stderr",
     "output_type": "stream",
     "text": [
      "/Users/sahan/Library/Python/3.9/lib/python/site-packages/whisper/transcribe.py:126: UserWarning: FP16 is not supported on CPU; using FP32 instead\n",
      "  warnings.warn(\"FP16 is not supported on CPU; using FP32 instead\")\n",
      "/Users/sahan/Library/Python/3.9/lib/python/site-packages/whisper/transcribe.py:126: UserWarning: FP16 is not supported on CPU; using FP32 instead\n",
      "  warnings.warn(\"FP16 is not supported on CPU; using FP32 instead\")\n",
      "/Users/sahan/Library/Python/3.9/lib/python/site-packages/whisper/transcribe.py:126: UserWarning: FP16 is not supported on CPU; using FP32 instead\n",
      "  warnings.warn(\"FP16 is not supported on CPU; using FP32 instead\")\n",
      "/Users/sahan/Library/Python/3.9/lib/python/site-packages/whisper/transcribe.py:126: UserWarning: FP16 is not supported on CPU; using FP32 instead\n",
      "  warnings.warn(\"FP16 is not supported on CPU; using FP32 instead\")\n",
      "/Users/sahan/Library/Python/3.9/lib/python/site-packages/whisper/transcribe.py:126: UserWarning: FP16 is not supported on CPU; using FP32 instead\n",
      "  warnings.warn(\"FP16 is not supported on CPU; using FP32 instead\")\n",
      "/Users/sahan/Library/Python/3.9/lib/python/site-packages/whisper/transcribe.py:126: UserWarning: FP16 is not supported on CPU; using FP32 instead\n",
      "  warnings.warn(\"FP16 is not supported on CPU; using FP32 instead\")\n"
     ]
    }
   ],
   "source": [
    "# Gradio Interface input in microphone and output in transcribe text, translated text and translated audio   \n",
    "# - when Microphone is used, use the default audio source \"microphone\" \n",
    "# - it will help to recognize the audio input from the microphone in clear way\n",
    "\n",
    "demo = gr.Interface(\n",
    "    fn=transcribe_translate_tts,\n",
    "    inputs=gr.Audio(sources=[\"microphone\"], type=\"numpy\"),\n",
    "    outputs=[\"text\", \"text\", gr.Audio(type=\"filepath\")],\n",
    "    live=True,\n",
    "    title=\"Speech-to-Text & Any Language-to-Sinhala Translation with TTS\",\n",
    "    description=\"Speak in any language, and the system will transcribe, translate to Sinhala, and read it out loud.\",\n",
    ")\n",
    "\n",
    "demo.launch()"
   ]
  }
 ],
 "metadata": {
  "kernelspec": {
   "display_name": "Python 3",
   "language": "python",
   "name": "python3"
  },
  "language_info": {
   "codemirror_mode": {
    "name": "ipython",
    "version": 3
   },
   "file_extension": ".py",
   "mimetype": "text/x-python",
   "name": "python",
   "nbconvert_exporter": "python",
   "pygments_lexer": "ipython3",
   "version": "3.9.6"
  }
 },
 "nbformat": 4,
 "nbformat_minor": 2
}
